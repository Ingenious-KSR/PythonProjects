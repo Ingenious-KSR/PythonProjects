{
 "cells": [
  {
   "cell_type": "code",
   "execution_count": 1,
   "metadata": {},
   "outputs": [
    {
     "name": "stdout",
     "output_type": "stream",
     "text": [
      "f"
     ]
    }
   ],
   "source": [
    "n1=int(input())\n",
    "n2=int(input())\n",
    "n3=int(input())\n",
    "l1=list(input())\n",
    "l2=list(input())\n",
    "l3=list(input())\n",
    "dic={}\n",
    "for i in l1:\n",
    "    if dic.get(i) != None:\n",
    "        dic[i]+=1\n",
    "    else:\n",
    "        dic[i]=1\n",
    "for i in l2:\n",
    "    if dic.get(i) != None:\n",
    "        dic[i]+=1\n",
    "    else:\n",
    "        dic[i]=1\n",
    "for i in l3:\n",
    "    if dic.get(i) != None:\n",
    "        dic[i]+=1\n",
    "    else:\n",
    "        dic[i]=1\n",
    "for i,j in dic.items():\n",
    "    if j>=2:\n",
    "        print(i, end=\"\")\n",
    "    else:\n",
    "        continue"
   ]
  },
  {
   "cell_type": "code",
   "execution_count": null,
   "metadata": {},
   "outputs": [],
   "source": [
    "def count_substring(string,sub_string):\n",
    "    count = 0\n",
    "    start = 0\n",
    "    \n",
    "    while True:\n",
    "        start = string.find(sub_string,start)\n",
    "        if start == -1:\n",
    "            break\n",
    "        count += 1\n",
    "        start += 1    \n",
    "    return count\n",
    "string = input().strip()\n",
    "sub_string = input().strip()\n",
    "print(count_substring(string,sub_string))"
   ]
  },
  {
   "cell_type": "code",
   "execution_count": 9,
   "metadata": {},
   "outputs": [
    {
     "name": "stdout",
     "output_type": "stream",
     "text": [
      "('A', 'B', 'C')\n",
      "('A', 'B', 'Z')\n",
      "('A', 'C', 'D')\n",
      "('A', 'C', 'D')\n",
      "3\n"
     ]
    }
   ],
   "source": [
    "class UserMainCode(object):\n",
    "    @classmethod\n",
    "    def airportCodes(cls, input1, input2):\n",
    "        unique_codes = set()\n",
    "        for i in range(0, input1, 3):\n",
    "            code = input2[i:i+3]\n",
    "            #sorted_code = tuple(sorted(code))\n",
    "            sorted_code = tuple(sorted(code))\n",
    "            print(sorted_code)\n",
    "            unique_codes.add(sorted_code)\n",
    "\n",
    "        return len(unique_codes)\n",
    "    \n",
    "input1 = 12\n",
    "input2 = \"ABCZABCADDAC\"\n",
    "print(UserMainCode.airportCodes(input1, input2))"
   ]
  },
  {
   "cell_type": "code",
   "execution_count": 5,
   "metadata": {},
   "outputs": [
    {
     "name": "stdout",
     "output_type": "stream",
     "text": [
      "[1, 2, 3, 4, 5, 6, 7, 8, 9, 10]done\n"
     ]
    }
   ],
   "source": [
    "l=[1,2,3,4,5,6,7,8,9,10]\n",
    "print(l,end=\"\")\n",
    "print('done')"
   ]
  },
  {
   "cell_type": "code",
   "execution_count": 16,
   "metadata": {},
   "outputs": [
    {
     "name": "stdout",
     "output_type": "stream",
     "text": [
      "A\n",
      "20\n",
      "30\n",
      "<class 'str'>\n",
      "<class 'int'>\n",
      "<class 'int'>\n"
     ]
    }
   ],
   "source": [
    "x,y,z={\"A\":1,20:\"B\",30:\"C\"}\n",
    "print(x)\n",
    "print(y)\n",
    "print(z)\n",
    "print(type(x))\n",
    "print(type(y))\n",
    "print(type(z))"
   ]
  },
  {
   "cell_type": "code",
   "execution_count": 3,
   "metadata": {},
   "outputs": [
    {
     "name": "stdout",
     "output_type": "stream",
     "text": [
      "27\n"
     ]
    }
   ],
   "source": [
    "#Function to calculate sum of all numbers present in a string.\n",
    "def findSum(s):\n",
    "    su=0\n",
    "    temp=\"\"\n",
    "    for i in range(0,len(s)):\n",
    "        if s[i].isdigit():\n",
    "            temp+=s[i]\n",
    "            if i == len(s)-1:\n",
    "                su+=int(temp)\n",
    "        else:\n",
    "            if temp != \"\":\n",
    "                su+=int(temp)\n",
    "                temp = \"\"\n",
    "    return su\n",
    "\n",
    "s=\"asnk24knkg3\"\n",
    "print(findSum(s))"
   ]
  },
  {
   "cell_type": "code",
   "execution_count": null,
   "metadata": {},
   "outputs": [
    {
     "name": "stdout",
     "output_type": "stream",
     "text": [
      "[3, 4, 5, 6, 7, 1, 2]\n"
     ]
    }
   ],
   "source": [
    "def rotateArr(arr, d):\n",
    "    # Approach 1\n",
    "    # l = list(arr)  # Copying the array\n",
    "    # # Appending first 'd' elements to the end\n",
    "    # for i in range(d):\n",
    "    #     l.append(l[i])  \n",
    "    # # Returning only the rotated portion\n",
    "    # return l[d:]  # Correct slicing to remove first 'd' elements\n",
    "\n",
    "    # Approach 2\n",
    "    return arr[d:]+arr[:d]\n",
    "\n",
    "arr = [1, 2, 3, 4, 5, 6, 7]\n",
    "d = 2\n",
    "print(rotateArr(arr, d))  # Output: [3, 4, 5, 6, 7, 1, 2]"
   ]
  },
  {
   "cell_type": "code",
   "execution_count": 11,
   "metadata": {},
   "outputs": [
    {
     "name": "stdout",
     "output_type": "stream",
     "text": [
      "6\n"
     ]
    }
   ],
   "source": [
    "def find_element(arr):\n",
    "    n = len(arr)\n",
    "    mid = -1\n",
    "    \n",
    "    for i in range(1, n - 1):\n",
    "        if max(arr[:i]) <= arr[i] <= min(arr[i+1:]):\n",
    "            mid = arr[i]\n",
    "    \n",
    "    return mid\n",
    "\n",
    "# Example usage:\n",
    "arr = [5, 1, 4, 3, 6, 8, 10, 7, 9]\n",
    "print(find_element(arr))"
   ]
  },
  {
   "cell_type": "code",
   "execution_count": null,
   "metadata": {},
   "outputs": [
    {
     "name": "stdout",
     "output_type": "stream",
     "text": [
      "1\n",
      "2\n",
      "3\n",
      "4\n",
      "5\n",
      "6\n",
      "7\n",
      "8\n",
      "9\n",
      "10\n",
      "11\n",
      "12\n",
      "13\n",
      "14\n",
      "15\n",
      "16\n",
      "17\n",
      "18\n",
      "19\n",
      "20\n",
      "21\n",
      "22\n",
      "23\n",
      "24\n",
      "25\n",
      "26\n",
      "27\n",
      "28\n",
      "29\n",
      "30\n",
      "31\n",
      "32\n",
      "33\n",
      "34\n",
      "35\n",
      "36\n",
      "37\n",
      "38\n",
      "39\n",
      "40\n",
      "41\n",
      "42\n",
      "43\n",
      "44\n",
      "45\n",
      "46\n",
      "47\n",
      "48\n",
      "49\n",
      "50\n",
      "51\n",
      "52\n",
      "53\n",
      "54\n",
      "55\n",
      "56\n",
      "57\n",
      "58\n",
      "59\n",
      "60\n",
      "61\n",
      "62\n",
      "63\n",
      "64\n",
      "65\n",
      "66\n",
      "67\n",
      "68\n",
      "69\n",
      "70\n",
      "71\n",
      "72\n",
      "73\n",
      "74\n",
      "75\n",
      "76\n",
      "77\n",
      "78\n",
      "79\n",
      "80\n",
      "81\n",
      "82\n",
      "83\n",
      "84\n",
      "85\n",
      "86\n",
      "87\n",
      "88\n",
      "89\n",
      "90\n",
      "91\n",
      "92\n",
      "93\n",
      "94\n",
      "95\n",
      "96\n",
      "97\n",
      "98\n",
      "99\n",
      "100\n"
     ]
    }
   ],
   "source": [
    "a=\"A\"\n",
    "b=\"B\"\n",
    "k=\"K\"\n",
    "z=\"Z\"\n",
    "an=ord(a) #65\n",
    "bn=ord(b) #66\n",
    "kn=ord(k) #75\n",
    "zn=ord(z) #90\n",
    "for i in range(bn-an,zn+kn-an+bn-an): #66-65,90+75-65+66-65\n",
    "    print(i)\n"
   ]
  },
  {
   "cell_type": "code",
   "execution_count": 2,
   "metadata": {},
   "outputs": [
    {
     "name": "stdout",
     "output_type": "stream",
     "text": [
      "#ILovePython\n"
     ]
    }
   ],
   "source": [
    "def Hashtag_String(string):\n",
    "    \"\"\"\n",
    "    This function takes a string and returns a new string with the first letter of each word capitalized and prefixed with a hashtag.\n",
    "    \"\"\"\n",
    "    for char in string:\n",
    "        if char.isalnum() or char.isspace():\n",
    "            continue\n",
    "        else:\n",
    "            string = string.replace(char, '')\n",
    "    \n",
    "    string = string.strip()\n",
    "    l = string.split(\" \")\n",
    "    hashList = []\n",
    "    for i in l:\n",
    "        hashList.append(i.capitalize())\n",
    "\n",
    "    hashtag_string = '#'\n",
    "    for i in hashList:\n",
    "        hashtag_string += i\n",
    "    \n",
    "    return hashtag_string\n",
    "\n",
    "s=input(\"Enter a string: \")\n",
    "print(Hashtag_String(s))"
   ]
  }
 ],
 "metadata": {
  "kernelspec": {
   "display_name": "Python 3",
   "language": "python",
   "name": "python3"
  },
  "language_info": {
   "codemirror_mode": {
    "name": "ipython",
    "version": 3
   },
   "file_extension": ".py",
   "mimetype": "text/x-python",
   "name": "python",
   "nbconvert_exporter": "python",
   "pygments_lexer": "ipython3",
   "version": "3.12.5"
  }
 },
 "nbformat": 4,
 "nbformat_minor": 2
}
