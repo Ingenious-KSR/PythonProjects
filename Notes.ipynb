{
 "cells": [
  {
   "cell_type": "code",
   "execution_count": 2,
   "id": "cc798325",
   "metadata": {},
   "outputs": [
    {
     "name": "stdout",
     "output_type": "stream",
     "text": [
      "Hello\n",
      "World\n",
      "Hello World\n"
     ]
    }
   ],
   "source": [
    "''' print in different \n",
    "lines'''\n",
    "print(\"Hello\")\n",
    "print(\"World\")\n",
    "# print in same line\n",
    "print(\"Hello\",end=\" \")\n",
    "print(\"World\")"
   ]
  },
  {
   "cell_type": "code",
   "execution_count": null,
   "id": "f8cb4535",
   "metadata": {},
   "outputs": [],
   "source": [
    "# print in same line\n",
    "import sys\n",
    "sys.stdout.write(\"Hello, \")\n",
    "sys.stdout.write(\"world!\")"
   ]
  },
  {
   "cell_type": "code",
   "execution_count": 4,
   "id": "6bb2204c",
   "metadata": {},
   "outputs": [
    {
     "name": "stdout",
     "output_type": "stream",
     "text": [
      "W\n"
     ]
    }
   ],
   "source": [
    "# Multiline string\n",
    "string = \"\"\"Hello, \n",
    "World!\"\"\"\n",
    "print(string[8])"
   ]
  },
  {
   "cell_type": "code",
   "execution_count": 5,
   "id": "6fdcc438",
   "metadata": {},
   "outputs": [
    {
     "name": "stdout",
     "output_type": "stream",
     "text": [
      "0\n",
      "1\n",
      "-1\n",
      "1\n",
      "1.0\n"
     ]
    }
   ],
   "source": [
    "# boolean arithmetic\n",
    "print(True * False)\n",
    "print(True + False)\n",
    "print(False - True)\n",
    "print(True // True)\n",
    "print(True / True)"
   ]
  },
  {
   "cell_type": "code",
   "execution_count": 37,
   "id": "1a0fcd5d",
   "metadata": {},
   "outputs": [
    {
     "name": "stdout",
     "output_type": "stream",
     "text": [
      "5\n",
      "HelloWorld\n",
      "(1, 2, 3, 4)\n",
      "[1, 2, 3, 4]\n",
      "6\n",
      "HelloHelloHello\n",
      "[1, 2, 1, 2, 1, 2]\n",
      "(1, 2, 1, 2, 1, 2)\n",
      "-1\n",
      "0.6666666666666666\n",
      "0\n",
      "2\n",
      "8\n"
     ]
    }
   ],
   "source": [
    "# Arithmetic operations\n",
    "print(2 + 3)\n",
    "print(\"Hello\" + \"World\") # string concatenation and similarly list and tuple concatenation\n",
    "print((1,2)+(3,4)) # tuple concatenation\n",
    "print([1,2]+[3,4]) # list concatenation\n",
    "\n",
    "print(2 * 3)\n",
    "print(\"Hello\" * 3) # string repetition\n",
    "print([1,2] * 3) # list repetition\n",
    "print((1,2) * 3) # tuple repetition\n",
    "\n",
    "print(2 - 3)\n",
    "print(2 / 3)\n",
    "print(2 // 3)\n",
    "print(2 % 3)\n",
    "print(2 ** 3)\n"
   ]
  },
  {
   "cell_type": "code",
   "execution_count": 38,
   "id": "75714595",
   "metadata": {},
   "outputs": [
    {
     "name": "stdout",
     "output_type": "stream",
     "text": [
      "False\n",
      "True\n",
      "False\n",
      "False\n",
      "True\n",
      "True\n",
      "248\n"
     ]
    }
   ],
   "source": [
    "# Logical operations\n",
    "print(True and False)\n",
    "print(True or False)\n",
    "print(not True)\n",
    "print(True is False)\n",
    "print(True is True)\n",
    "print(True is not False)\n",
    "print(True and 248)"
   ]
  },
  {
   "cell_type": "code",
   "execution_count": 20,
   "id": "747f6fc8",
   "metadata": {},
   "outputs": [
    {
     "name": "stdout",
     "output_type": "stream",
     "text": [
      "None\n",
      "<class 'NoneType'>\n"
     ]
    }
   ],
   "source": [
    "# none type\n",
    "a = None\n",
    "print(a)\n",
    "print(type(a))"
   ]
  },
  {
   "cell_type": "code",
   "execution_count": 7,
   "id": "657060e3",
   "metadata": {},
   "outputs": [
    {
     "name": "stdout",
     "output_type": "stream",
     "text": [
      "(1, 2, 3)\n",
      "1 2 3\n",
      "[1, 2, 3]\n",
      "1 2 3\n",
      "(1, 2, 3)\n",
      "1 2 3\n",
      "{1, 2, 3}\n",
      "1 2 3\n",
      "{'a': 1, 'b': 2, 'c': 3}\n",
      "a b c\n",
      "Hello\n",
      "Hello Hi Hey\n"
     ]
    }
   ],
   "source": [
    "# packing and unpacking\n",
    "a = 1, 2, 3\n",
    "print(a)\n",
    "a, b, c = 1, 2, 3\n",
    "print(a,b,c)\n",
    "# list\n",
    "a = [1, 2, 3]\n",
    "print(a)\n",
    "a, b, c = [1, 2, 3]\n",
    "print(a,b,c)\n",
    "# tuple\n",
    "a = (1, 2, 3)\n",
    "print(a)\n",
    "a, b, c = (1, 2, 3)\n",
    "print(a,b,c)\n",
    "# set\n",
    "a = {1, 2, 3}\n",
    "print(a)\n",
    "a, b, c = {1, 2, 3}\n",
    "print(a,b,c)\n",
    "# dictionary\n",
    "a = {\"a\": 1, \"b\": 2, \"c\": 3}\n",
    "print(a)\n",
    "a, b, c = {\"a\": 1, \"b\": 2, \"c\": 3}\n",
    "print(a,b,c)\n",
    "# string\n",
    "a = \"Hello\"\n",
    "print(a)\n",
    "a, b, c = \"Hello\",\"Hi\",\"Hey\"\n",
    "print(a,b,c)"
   ]
  },
  {
   "cell_type": "code",
   "execution_count": null,
   "id": "8f2c3e1b",
   "metadata": {},
   "outputs": [
    {
     "name": "stdout",
     "output_type": "stream",
     "text": [
      "[1, 2, 3]\n"
     ]
    }
   ],
   "source": [
    "# list -> indexed/ordered, Mutable, allows duplicates\n",
    "a = [1, 2, 3]\n",
    "print(a)"
   ]
  },
  {
   "cell_type": "code",
   "execution_count": 16,
   "metadata": {},
   "outputs": [
    {
     "name": "stdout",
     "output_type": "stream",
     "text": [
      "[1, 2, 3]\n",
      "[3, 1, 2, 3]\n",
      "[0, 1, 2, 3]\n",
      "[1, 2, 3]\n",
      "[2, 3]\n",
      "[2, 3, 4, 5, 6]\n",
      "[2, 3, 4, 5, 6, 8, 7]\n",
      "[2, 3, 4, 5, 6, 8, 7, 9, 10]\n",
      "[2, 3, 4, 5, 6, 8, 7, 9, 10, 11]\n",
      "9\n",
      "[11, 10, 9, 8, 7, 6, 5, 4, 3, 2]\n",
      "10\n",
      "[10, 9, 8, 7, 6]\n",
      "[3, 5, 7]\n"
     ]
    }
   ],
   "source": [
    "b = list() # empty list alt. b = []\n",
    "b.append(1)\n",
    "b.append(2)\n",
    "b = b + [3]\n",
    "print(b)\n",
    "\n",
    "b.insert(0, 3) # insert at index 0\n",
    "print(b)\n",
    "\n",
    "b[0] = 0 # modify element\n",
    "print(b)\n",
    "\n",
    "b.remove(0) # remove element\n",
    "print(b)\n",
    "\n",
    "b.pop(0) # remove element at index 0\n",
    "print(b)\n",
    "\n",
    "b.extend({4:1,5:2,6:3}) # extend list with dictionary hence only keys are added | same methodology can be implemented in declaration also like l=list(<dictionary name>)\n",
    "print(b)\n",
    "\n",
    "b.extend({7,8}) # extend list with set | same methodology can be implemented in declaration also like l=list(<set name>)\n",
    "print(b)\n",
    "\n",
    "b.extend((9,10)) # extend list with tuple | same methodology can be implemented in declaration also like l=list(<tuple name>)\n",
    "print(b)\n",
    "\n",
    "b.extend([11]) # extend list with list | same methodology can be implemented in declaration also like l=list(<list name>) but this will give list of lists\n",
    "print(b)\n",
    "\n",
    "ind = b.index(11)\n",
    "print(ind) # index of element\n",
    "\n",
    "b.sort(reverse=True) # sort list in descending order\n",
    "print(b)\n",
    "\n",
    "print(len(b)) # length of list\n",
    "\n",
    "sliceList = b[1:6:1] # slice list from index 1 to 6 excluding 6th with step 1\n",
    "print(sliceList)\n",
    "\n",
    "sliceList2 = b[-2:-8:-2] # slice list from index -2 to -8 leftwards excluding -8th with step -2\n",
    "print(sliceList2)"
   ]
  },
  {
   "cell_type": "code",
   "execution_count": null,
   "id": "26fa080d",
   "metadata": {},
   "outputs": [
    {
     "name": "stdout",
     "output_type": "stream",
     "text": [
      "[[4, 5, 6]]\n"
     ]
    }
   ],
   "source": [
    "c = [[4,5,6], 1, 2, 3]\n",
    "l = [[j for j in i ] for i in c if type(i) == list]\n",
    "print(l)"
   ]
  },
  {
   "cell_type": "code",
   "execution_count": 7,
   "id": "a9243b44",
   "metadata": {},
   "outputs": [
    {
     "name": "stdout",
     "output_type": "stream",
     "text": [
      "(1, 2, 3)\n"
     ]
    }
   ],
   "source": [
    "# tuples -> indexed/ordered, Immutable, allows duplicates\n",
    "a = (1, 2, 3)\n",
    "print(a)"
   ]
  },
  {
   "cell_type": "code",
   "execution_count": 9,
   "id": "11e4f613",
   "metadata": {},
   "outputs": [
    {
     "name": "stdout",
     "output_type": "stream",
     "text": [
      "(1,)\n",
      "(1, 2, 3)\n",
      "(1, 2, 3, 4, 5, 6)\n"
     ]
    }
   ],
   "source": [
    "b = tuple() # empty tuple alt. b = ()\n",
    "b = b + (1,)\n",
    "print(b)\n",
    "b = b + (2,)\n",
    "b = b + (3,)\n",
    "print(b)\n",
    "b = b + (4, 5, 6)\n",
    "print(b)"
   ]
  },
  {
   "cell_type": "code",
   "execution_count": null,
   "id": "2e705006",
   "metadata": {},
   "outputs": [],
   "source": [
    "# sets -> unordered/unindexed, mutable, no duplicates\n",
    "a = {1, 2, 3}\n",
    "print(a)"
   ]
  },
  {
   "cell_type": "code",
   "execution_count": null,
   "id": "0f683a16",
   "metadata": {},
   "outputs": [],
   "source": [
    "b = set() # Exception from other structures : -> empty set is not written as b = {}\n",
    "b.add(1)\n",
    "b.add(2)\n",
    "b.add(3)\n",
    "print(b)"
   ]
  },
  {
   "cell_type": "code",
   "execution_count": null,
   "id": "03d1d621",
   "metadata": {},
   "outputs": [],
   "source": [
    "# dictionaries\n",
    "# -> unordered/unindexed, mutable, no duplicates"
   ]
  },
  {
   "cell_type": "code",
   "execution_count": null,
   "id": "634b113c",
   "metadata": {},
   "outputs": [],
   "source": [
    "byte_array = bytes([72, 101])\n",
    "# byte_array.append(108)  # Append ASCII for 'l'\n",
    "# byte_array.extend([108, 111])  # Append ASCII for 'l' and 'o'\n",
    "print(byte_array.decode('utf-8'))"
   ]
  },
  {
   "cell_type": "code",
   "execution_count": null,
   "id": "0faf0f57",
   "metadata": {},
   "outputs": [
    {
     "name": "stdout",
     "output_type": "stream",
     "text": [
      "3\n",
      "<class 'NoneType'>\n",
      "(10, 40, 3)\n",
      "10 40 3\n",
      "5 60\n",
      "(10, 60, 4)\n",
      "(10, 80, 5)\n"
     ]
    }
   ],
   "source": [
    "# functions\n",
    "def nullType(a, b): # none return type function\n",
    "    print(a + b)\n",
    "\n",
    "print(type(nullType(1, 2)))"
   ]
  },
  {
   "cell_type": "code",
   "execution_count": 28,
   "id": "24aceeb0",
   "metadata": {},
   "outputs": [
    {
     "name": "stdout",
     "output_type": "stream",
     "text": [
      "(10, 40, 3)\n",
      "10 40 3\n",
      "5 60\n"
     ]
    }
   ],
   "source": [
    "def add(a, b):\n",
    "    return a*10, b*20, a+b\n",
    "\n",
    "result = add(1, 2)\n",
    "print(result)\n",
    "\n",
    "a, b, sum = add(1, 2)\n",
    "print(a, b, sum)\n",
    "\n",
    "_, _, s = add(2, 3) # placeholder for a and b value in garbage collector\n",
    "print(s, _)"
   ]
  },
  {
   "cell_type": "code",
   "execution_count": 29,
   "id": "f1fdce4e",
   "metadata": {},
   "outputs": [
    {
     "name": "stdout",
     "output_type": "stream",
     "text": [
      "(10, 60, 4)\n",
      "(10, 80, 5)\n"
     ]
    }
   ],
   "source": [
    "def func2(a, b=3): # default value assignment start from last as while passing arguments python interprets in sequence which may cause error.\n",
    "    return a*10, b*20, a+b\n",
    "\n",
    "result = func2(1)\n",
    "print(result)\n",
    "\n",
    "result = func2(1,4)\n",
    "print(result)"
   ]
  },
  {
   "cell_type": "code",
   "execution_count": 33,
   "id": "194f14ca",
   "metadata": {},
   "outputs": [
    {
     "name": "stdout",
     "output_type": "stream",
     "text": [
      "(1, 2, 3)\n",
      "Help on function func3 in module __main__:\n",
      "\n",
      "func3(*args)\n",
      "    This function takes a variable number of arguments and returns them as a tuple.\n",
      "\n"
     ]
    }
   ],
   "source": [
    "def func3(*args):\n",
    "    \"\"\"This function takes a variable number of arguments and returns them as a tuple.\"\"\"\n",
    "    return args\n",
    "\n",
    "result = func3(1, 2, 3)\n",
    "print(result)\n",
    "help(func3)"
   ]
  },
  {
   "cell_type": "code",
   "execution_count": null,
   "id": "20ec126b",
   "metadata": {},
   "outputs": [
    {
     "name": "stdout",
     "output_type": "stream",
     "text": [
      "{'a': 1, 'b': 2, 'c': 3}\n"
     ]
    }
   ],
   "source": [
    "def func4(**kwargs): # keyword arguments\n",
    "    \"\"\"This function takes a variable number of keyword arguments and returns them as a dictionary.\"\"\"\n",
    "    return kwargs\n",
    "\n",
    "result = func4(a=1, b=2, c=3)\n",
    "print(result)"
   ]
  },
  {
   "cell_type": "code",
   "execution_count": null,
   "id": "98224bc4",
   "metadata": {},
   "outputs": [
    {
     "name": "stdout",
     "output_type": "stream",
     "text": [
      "Hello1\n"
     ]
    },
    {
     "data": {
      "text/plain": [
       "'e'"
      ]
     },
     "execution_count": 50,
     "metadata": {},
     "output_type": "execute_result"
    }
   ],
   "source": [
    "n = lambda x: x + \"1\"\n",
    "s = n(\"Hello\")\n",
    "print(s)\n",
    "\n",
    "s = iter(s)\n",
    "next(s)\n",
    "next(s)"
   ]
  },
  {
   "cell_type": "code",
   "execution_count": 51,
   "id": "613197dc",
   "metadata": {},
   "outputs": [
    {
     "data": {
      "text/plain": [
       "'d:\\\\ProgramData\\\\PythonProjects'"
      ]
     },
     "execution_count": 51,
     "metadata": {},
     "output_type": "execute_result"
    }
   ],
   "source": [
    "pwd()"
   ]
  },
  {
   "cell_type": "code",
   "execution_count": 6,
   "id": "9fc3c4fc",
   "metadata": {},
   "outputs": [
    {
     "name": "stdout",
     "output_type": "stream",
     "text": [
      "<module 'moduleToImport.fileToImport' from 'd:\\\\ProgramData\\\\PythonProjects\\\\moduleToImport\\\\fileToImport.py'>\n"
     ]
    }
   ],
   "source": [
    "# importing self created modules\n",
    "import moduleToImport\n",
    "from moduleToImport import * # import all or for specific \"from moduleToImport import fileToImport\"\n",
    "file = moduleToImport.fileToImport\n",
    "print(file)"
   ]
  },
  {
   "cell_type": "code",
   "execution_count": 4,
   "id": "38f86bf6",
   "metadata": {},
   "outputs": [
    {
     "name": "stdout",
     "output_type": "stream",
     "text": [
      "imported\n"
     ]
    }
   ],
   "source": [
    "import moduleToImport\n",
    "from moduleToImport import fileToImport"
   ]
  }
 ],
 "metadata": {
  "kernelspec": {
   "display_name": "Python 3",
   "language": "python",
   "name": "python3"
  },
  "language_info": {
   "codemirror_mode": {
    "name": "ipython",
    "version": 3
   },
   "file_extension": ".py",
   "mimetype": "text/x-python",
   "name": "python",
   "nbconvert_exporter": "python",
   "pygments_lexer": "ipython3",
   "version": "3.11.3"
  }
 },
 "nbformat": 4,
 "nbformat_minor": 5
}
